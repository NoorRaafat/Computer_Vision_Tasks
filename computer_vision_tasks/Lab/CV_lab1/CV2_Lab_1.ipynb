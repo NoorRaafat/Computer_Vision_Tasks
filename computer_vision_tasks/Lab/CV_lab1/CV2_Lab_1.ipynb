{
 "cells": [
  {
   "cell_type": "markdown",
   "id": "3dfbfdd9",
   "metadata": {},
   "source": [
    "   # import Packages"
   ]
  },
  {
   "cell_type": "code",
   "execution_count": 1,
   "id": "e98dad01",
   "metadata": {},
   "outputs": [],
   "source": [
    "import cv2\n",
    "import matplotlib.pyplot as plt\n",
    "import numpy as np"
   ]
  },
  {
   "cell_type": "markdown",
   "id": "d6cfabab",
   "metadata": {},
   "source": [
    "# Q1- construct 1d numpy array, 2d numpy array,3d numpy array.\n"
   ]
  },
  {
   "cell_type": "code",
   "execution_count": 2,
   "id": "92e4fd78",
   "metadata": {},
   "outputs": [
    {
     "name": "stdout",
     "output_type": "stream",
     "text": [
      "[1 2 3 4]\n",
      "[[1 2]\n",
      " [4 4]]\n",
      "[[[1 2 3]\n",
      "  [5 6 7]]]\n"
     ]
    }
   ],
   "source": [
    "one_dim=np.array([1,2,3,4])\n",
    "two_dim=np.array([[1,2],\n",
    "                 [4,4]])\n",
    "three_dim=np.array([[[1,2,3],\n",
    "                    [5,6,7]]])\n",
    "print(one_dim)\n",
    "print(two_dim)\n",
    "print(three_dim)"
   ]
  },
  {
   "cell_type": "markdown",
   "id": "3176c08c",
   "metadata": {},
   "source": [
    "# Q2- Write a NumPy program to test whether any of the elements of a given array is non-zero. Hint use any()\n"
   ]
  },
  {
   "cell_type": "code",
   "execution_count": 3,
   "id": "3148bdc7",
   "metadata": {},
   "outputs": [
    {
     "name": "stdout",
     "output_type": "stream",
     "text": [
      "That have non-zero element\n"
     ]
    }
   ],
   "source": [
    "x=np.array([1,0,0,1])\n",
    "flag=np.any(x)\n",
    "if flag:\n",
    "    print('That have non-zero element')\n",
    "else:\n",
    "    print('all zeros')"
   ]
  },
  {
   "cell_type": "markdown",
   "id": "40ffcc67",
   "metadata": {},
   "source": [
    "# Q3- Write a NumPy program to create an array of 10 zeros, 10 ones, 10 fives.\n"
   ]
  },
  {
   "cell_type": "code",
   "execution_count": 4,
   "id": "ef542edb",
   "metadata": {},
   "outputs": [
    {
     "name": "stdout",
     "output_type": "stream",
     "text": [
      "An array of 10 zeros:\n",
      "[0. 0. 0. 0. 0. 0. 0. 0. 0. 0.]\n",
      "An array of 10 ones:\n",
      "[1. 1. 1. 1. 1. 1. 1. 1. 1. 1.]\n",
      "An array of 10 fives:\n",
      "[5. 5. 5. 5. 5. 5. 5. 5. 5. 5.]\n",
      " \n",
      " finally We concatenate all arrays with one array :\n"
     ]
    },
    {
     "data": {
      "text/plain": [
       "array([0., 0., 0., 0., 0., 0., 0., 0., 0., 0., 1., 1., 1., 1., 1., 1., 1.,\n",
       "       1., 1., 1., 5., 5., 5., 5., 5., 5., 5., 5., 5., 5.])"
      ]
     },
     "execution_count": 4,
     "metadata": {},
     "output_type": "execute_result"
    }
   ],
   "source": [
    "array1=np.zeros(10)\n",
    "print(\"An array of 10 zeros:\")\n",
    "print(array1)\n",
    "array2=np.ones(10)\n",
    "print(\"An array of 10 ones:\")\n",
    "print(array2)\n",
    "array3=np.ones(10)*5\n",
    "print(\"An array of 10 fives:\")\n",
    "print(array3)\n",
    "print(\" \\n finally We concatenate all arrays with one array :\")\n",
    "np.concatenate((array1,array2,array3))"
   ]
  },
  {
   "cell_type": "markdown",
   "id": "96691124",
   "metadata": {},
   "source": [
    "# Q4- Write a NumPy program to create an array of 10 zeros 3d\n"
   ]
  },
  {
   "cell_type": "code",
   "execution_count": 5,
   "id": "b787dc12",
   "metadata": {},
   "outputs": [
    {
     "name": "stdout",
     "output_type": "stream",
     "text": [
      "An array of 10 zeros in 3D:\n",
      "[[[0.]]\n",
      "\n",
      " [[0.]]\n",
      "\n",
      " [[0.]]\n",
      "\n",
      " [[0.]]\n",
      "\n",
      " [[0.]]\n",
      "\n",
      " [[0.]]\n",
      "\n",
      " [[0.]]\n",
      "\n",
      " [[0.]]\n",
      "\n",
      " [[0.]]\n",
      "\n",
      " [[0.]]]\n"
     ]
    }
   ],
   "source": [
    "array_1=np.zeros((10,1,1))\n",
    "print(\"An array of 10 zeros in 3D:\")\n",
    "print(array_1)"
   ]
  },
  {
   "cell_type": "markdown",
   "id": "6993a59d",
   "metadata": {},
   "source": [
    "# Q5- Write a NumPy program to create an array of the integers from 30 to 70.\n"
   ]
  },
  {
   "cell_type": "code",
   "execution_count": 6,
   "id": "0d40e77c",
   "metadata": {},
   "outputs": [
    {
     "name": "stdout",
     "output_type": "stream",
     "text": [
      "Array of the integers from 30 to70\n",
      "[30 31 32 33 34 35 36 37 38 39 40 41 42 43 44 45 46 47 48 49 50 51 52 53\n",
      " 54 55 56 57 58 59 60 61 62 63 64 65 66 67 68 69 70]\n"
     ]
    }
   ],
   "source": [
    "x=np.arange(30,71)\n",
    "print(\"Array of the integers from 30 to70\")\n",
    "print(x)"
   ]
  },
  {
   "cell_type": "markdown",
   "id": "35114f9f",
   "metadata": {},
   "source": [
    "# Q6- Write a NumPy program to create a 3x3 identity matrix.\n"
   ]
  },
  {
   "cell_type": "code",
   "execution_count": 7,
   "id": "ed466252",
   "metadata": {},
   "outputs": [
    {
     "name": "stdout",
     "output_type": "stream",
     "text": [
      "3x3 idenity matrix is :\n",
      "[[1. 0. 0.]\n",
      " [0. 1. 0.]\n",
      " [0. 0. 1.]]\n"
     ]
    }
   ],
   "source": [
    "array=np.identity(3)\n",
    "print('3x3 idenity matrix is :')\n",
    "print(array)"
   ]
  },
  {
   "cell_type": "markdown",
   "id": "9e12754d",
   "metadata": {},
   "source": [
    "# Q7- Write a NumPy program to generate a random number between 0 and 1.\n"
   ]
  },
  {
   "cell_type": "code",
   "execution_count": 8,
   "id": "aace1a91",
   "metadata": {},
   "outputs": [
    {
     "name": "stdout",
     "output_type": "stream",
     "text": [
      "Random number between 0 and 1:\n",
      "[1.10818938]\n"
     ]
    }
   ],
   "source": [
    "rand_number = np.random.normal(0,1,1)\n",
    "print(\"Random number between 0 and 1:\")\n",
    "print(rand_number)"
   ]
  },
  {
   "cell_type": "markdown",
   "id": "721b253a",
   "metadata": {},
   "source": [
    "# Q8- Write a NumPy program to create a 3X4 array using and iterate over it.\n"
   ]
  },
  {
   "cell_type": "code",
   "execution_count": 9,
   "id": "b0fe75b4",
   "metadata": {},
   "outputs": [
    {
     "name": "stdout",
     "output_type": "stream",
     "text": [
      "Original array:\n",
      "[[ 1  2  3  4]\n",
      " [ 5  6  7  8]\n",
      " [ 9 10 11 12]]\n",
      "afer iterate over it : \n",
      "[1 2 3 4]\n",
      "[5 6 7 8]\n",
      "[ 9 10 11 12]\n"
     ]
    }
   ],
   "source": [
    "a = np.arange(1,13).reshape((3, 4))\n",
    "print(\"Original array:\")\n",
    "print(a)\n",
    "print(\"afer iterate over it : \")\n",
    "for i in a:\n",
    "    print(i)"
   ]
  },
  {
   "cell_type": "markdown",
   "id": "47b795a2",
   "metadata": {},
   "source": [
    "# Q9- Write a NumPy program to create a 10x10 matrix, in which the elements on the borders will be equal to 1, and inside 0."
   ]
  },
  {
   "cell_type": "code",
   "execution_count": 10,
   "id": "81931ffa",
   "metadata": {},
   "outputs": [
    {
     "name": "stdout",
     "output_type": "stream",
     "text": [
      "[[1. 1. 1. 1. 1. 1. 1. 1. 1. 1.]\n",
      " [1. 0. 0. 0. 0. 0. 0. 0. 0. 1.]\n",
      " [1. 0. 0. 0. 0. 0. 0. 0. 0. 1.]\n",
      " [1. 0. 0. 0. 0. 0. 0. 0. 0. 1.]\n",
      " [1. 0. 0. 0. 0. 0. 0. 0. 0. 1.]\n",
      " [1. 0. 0. 0. 0. 0. 0. 0. 0. 1.]\n",
      " [1. 0. 0. 0. 0. 0. 0. 0. 0. 1.]\n",
      " [1. 0. 0. 0. 0. 0. 0. 0. 0. 1.]\n",
      " [1. 0. 0. 0. 0. 0. 0. 0. 0. 1.]\n",
      " [1. 1. 1. 1. 1. 1. 1. 1. 1. 1.]]\n"
     ]
    }
   ],
   "source": [
    "x = np.ones((10, 10))\n",
    "x[1:-1, 1:-1] = 0\n",
    "print(x)"
   ]
  },
  {
   "cell_type": "markdown",
   "id": "34a46710",
   "metadata": {},
   "source": [
    "# Q10- read “Task_in” image and then print image shape ,plot the image using matplotlib and opencv then edit the right corner pixel to be red color then save the image as (.jpg,.npg) to your current folder name it “my_image.png” then read both image again. “Make your observation”.\n"
   ]
  },
  {
   "cell_type": "code",
   "execution_count": 11,
   "id": "d1a43ebc",
   "metadata": {},
   "outputs": [],
   "source": [
    "img = cv2.imread('Task_in.jpg')"
   ]
  },
  {
   "cell_type": "code",
   "execution_count": 12,
   "id": "8e05ea44",
   "metadata": {},
   "outputs": [
    {
     "data": {
      "text/plain": [
       "(21, 21, 3)"
      ]
     },
     "execution_count": 12,
     "metadata": {},
     "output_type": "execute_result"
    }
   ],
   "source": [
    "img.shape"
   ]
  },
  {
   "cell_type": "code",
   "execution_count": 13,
   "id": "fa6be911",
   "metadata": {},
   "outputs": [
    {
     "data": {
      "text/plain": [
       "<matplotlib.image.AxesImage at 0x225a1860910>"
      ]
     },
     "execution_count": 13,
     "metadata": {},
     "output_type": "execute_result"
    },
    {
     "data": {
      "image/png": "[encoded data removed]",
      "text/plain": [
       "<Figure size 432x288 with 1 Axes>"
      ]
     },
     "metadata": {
      "needs_background": "light"
     },
     "output_type": "display_data"
    }
   ],
   "source": [
    "#show by matplotlib\n",
    "plt.imshow(img)"
   ]
  },
  {
   "cell_type": "code",
   "execution_count": 16,
   "id": "e0e64f62",
   "metadata": {},
   "outputs": [],
   "source": [
    "#Show using opencv\n",
    "cv2.imshow('image',img)\n",
    "cv2.waitKey(0)\n",
    "cv2.destroyAllWindows()"
   ]
  },
  {
   "cell_type": "code",
   "execution_count": 17,
   "id": "4c6b9df1",
   "metadata": {},
   "outputs": [],
   "source": [
    "# edit the right corner pixel to be red color with open cv\n",
    "img[0,-1,0] = 255"
   ]
  },
  {
   "cell_type": "code",
   "execution_count": 18,
   "id": "1ecede7e",
   "metadata": {},
   "outputs": [
    {
     "data": {
      "text/plain": [
       "<matplotlib.image.AxesImage at 0x225a190cd60>"
      ]
     },
     "execution_count": 18,
     "metadata": {},
     "output_type": "execute_result"
    },
    {
     "data": {
      "image/png": "[encoded data removed]",
      "text/plain": [
       "<Figure size 432x288 with 1 Axes>"
      ]
     },
     "metadata": {
      "needs_background": "light"
     },
     "output_type": "display_data"
    }
   ],
   "source": [
    "plt.imshow(img)"
   ]
  },
  {
   "cell_type": "code",
   "execution_count": 20,
   "id": "05c133d8",
   "metadata": {},
   "outputs": [
    {
     "data": {
      "text/plain": [
       "True"
      ]
     },
     "execution_count": 20,
     "metadata": {},
     "output_type": "execute_result"
    }
   ],
   "source": [
    "cv2.imwrite('my_image/Task_out.jpg', img)\n",
    "cv2.imwrite('my_image/Task_out.png', img)"
   ]
  },
  {
   "cell_type": "code",
   "execution_count": 21,
   "id": "6624043e",
   "metadata": {},
   "outputs": [
    {
     "data": {
      "text/plain": [
       "'\\nMY observation in this , the picture in CV2 use BGR format but Mateplotlib use RGB format so in the notebook the picture\\nis red in Right corner but when we save it using cv2 that will be blue\\n'"
      ]
     },
     "execution_count": 21,
     "metadata": {},
     "output_type": "execute_result"
    },
    {
     "data": {
      "image/png": "[encoded data removed]",
      "text/plain": [
       "<Figure size 432x288 with 1 Axes>"
      ]
     },
     "metadata": {
      "needs_background": "light"
     },
     "output_type": "display_data"
    }
   ],
   "source": [
    "img2 = cv2.imread('my_image/Task_out.png')\n",
    "plt.imshow(img2)\n",
    "'''\n",
    "MY observation in this , the picture in CV2 use BGR format but Mateplotlib use RGB format so in the notebook the picture\n",
    "is red in Right corner but when we save it using cv2 that will be blue\n",
    "'''"
   ]
  },
  {
   "cell_type": "markdown",
   "id": "4befa7ec",
   "metadata": {},
   "source": [
    "# Q11- make 51*51*3 RGB image with Blue color then save it as”Blue.jpg”\n"
   ]
  },
  {
   "cell_type": "code",
   "execution_count": 28,
   "id": "7116137a",
   "metadata": {},
   "outputs": [],
   "source": [
    "blue_img = np.zeros((51,51,3), np.uint8)\n",
    "blue_img[:, :,2] = 255"
   ]
  },
  {
   "cell_type": "code",
   "execution_count": 29,
   "id": "05a03124",
   "metadata": {},
   "outputs": [
    {
     "data": {
      "text/plain": [
       "<matplotlib.image.AxesImage at 0x225a26990d0>"
      ]
     },
     "execution_count": 29,
     "metadata": {},
     "output_type": "execute_result"
    },
    {
     "data": {
      "image/png": "[encoded data removed]",
      "text/plain": [
       "<Figure size 432x288 with 1 Axes>"
      ]
     },
     "metadata": {
      "needs_background": "light"
     },
     "output_type": "display_data"
    }
   ],
   "source": [
    "plt.imshow(blue_img)\n"
   ]
  },
  {
   "cell_type": "code",
   "execution_count": 30,
   "id": "c5f97b1a",
   "metadata": {},
   "outputs": [
    {
     "data": {
      "text/plain": [
       "True"
      ]
     },
     "execution_count": 30,
     "metadata": {},
     "output_type": "execute_result"
    }
   ],
   "source": [
    "cv2.imwrite('Blue.JPG', blue_img) "
   ]
  },
  {
   "cell_type": "markdown",
   "id": "0fc9a440",
   "metadata": {},
   "source": [
    "# Q12- Make trackbar for rgb colors with window “colors” ."
   ]
  },
  {
   "cell_type": "code",
   "execution_count": 32,
   "id": "0ce3e063",
   "metadata": {},
   "outputs": [],
   "source": [
    "def nothing(x):\n",
    "    return\n",
    "image = np.zeros((500,500,3), np.uint8)\n",
    "cv2.namedWindow(\"Image\")\n",
    "cv2.createTrackbar(\"Red\", \"Image\", 0, 255, nothing)\n",
    "cv2.createTrackbar('Green', 'Image', 0, 255, nothing)\n",
    "cv2.createTrackbar('Blue', 'Image', 0, 255, nothing)\n",
    "while(True):\n",
    "    r = cv2.getTrackbarPos('Red', 'Image')\n",
    "    g = cv2.getTrackbarPos('Green', 'Image')\n",
    "    b = cv2.getTrackbarPos('Blue', 'Image')\n",
    " \n",
    "    image[:] = [r, g, b]\n",
    "    cv2.imshow('Image', image)\n",
    " \n",
    "    key = cv2.waitKey(1) # 0 indicates infinete loop\n",
    "    if key == ord('q'):\n",
    "        break\n",
    "cv2.destroyAllWindows()"
   ]
  },
  {
   "cell_type": "code",
   "execution_count": null,
   "id": "5c8698ef",
   "metadata": {},
   "outputs": [],
   "source": []
  }
 ],
 "metadata": {
  "kernelspec": {
   "display_name": "Python 3",
   "language": "python",
   "name": "python3"
  },
  "language_info": {
   "codemirror_mode": {
    "name": "ipython",
    "version": 3
   },
   "file_extension": ".py",
   "mimetype": "text/x-python",
   "name": "python",
   "nbconvert_exporter": "python",
   "pygments_lexer": "ipython3",
   "version": "3.8.3"
  }
 },
 "nbformat": 4,
 "nbformat_minor": 5
}
