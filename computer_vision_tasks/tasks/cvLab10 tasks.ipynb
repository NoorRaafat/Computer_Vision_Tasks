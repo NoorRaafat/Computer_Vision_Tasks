{
 "cells": [
  {
   "cell_type": "code",
   "execution_count": 2,
   "metadata": {},
   "outputs": [],
   "source": [
    "import cv2\n",
    "import numpy as np\n",
    "from matplotlib import pyplot as plt\n",
    "import math"
   ]
  },
  {
   "cell_type": "markdown",
   "metadata": {},
   "source": [
    "# Task1 :\n",
    "- Create image 256*256 Draw red square 50*50 in the center of blue circle with radius 80 the center of both square and circle is the same center of image."
   ]
  },
  {
   "cell_type": "code",
   "execution_count": 3,
   "metadata": {},
   "outputs": [
    {
     "data": {
      "text/plain": [
       "<matplotlib.image.AxesImage at 0x1f54ee2f7f0>"
      ]
     },
     "execution_count": 3,
     "metadata": {},
     "output_type": "execute_result"
    },
    {
     "data": {
      "image/png": "[encoded data removed]",
      "text/plain": [
       "<Figure size 432x288 with 1 Axes>"
      ]
     },
     "metadata": {
      "needs_background": "light"
     },
     "output_type": "display_data"
    }
   ],
   "source": [
    "img = np.zeros((256,256,3), np.uint8)\n",
    "\n",
    "cv2.circle(img, (128,128), 80, (0,0,255), 3)\n",
    "cv2.rectangle(img,(88,88), (168,168), (255,0,0),3)\n",
    "plt.imshow(img[:,:,::1])"
   ]
  },
  {
   "cell_type": "markdown",
   "metadata": {},
   "source": [
    "# Task2 :\n",
    "- make trackbar to control line position ,color and thickness in image 500*500 rgb."
   ]
  },
  {
   "cell_type": "code",
   "execution_count": 5,
   "metadata": {},
   "outputs": [],
   "source": [
    "def nothing(x):\n",
    "    pass\n",
    "\n",
    "cv2.namedWindow(\"line\")\n",
    "cv2.createTrackbar(\"x1\", \"line\", 0, 500, nothing)\n",
    "cv2.createTrackbar(\"y1\", \"line\", 0, 500, nothing)\n",
    "cv2.createTrackbar(\"x2\", \"line\", 0, 500, nothing)\n",
    "cv2.createTrackbar(\"y2\", \"line\", 0, 500, nothing)\n",
    "\n",
    "cv2.createTrackbar(\"r\", \"line\", 0, 255, nothing)\n",
    "cv2.createTrackbar(\"g\", \"line\", 0, 255, nothing)\n",
    "cv2.createTrackbar(\"b\", \"line\", 0, 255, nothing)\n",
    "\n",
    "cv2.createTrackbar(\"th\", \"line\", 0, 20, nothing)\n",
    "\n",
    "img2 = np.zeros((500, 500, 3), np.uint8)\n",
    "\n",
    "while 1:\n",
    "    x1 = cv2.getTrackbarPos(\"x1\", \"line\")\n",
    "    y1 = cv2.getTrackbarPos(\"y1\", \"line\")\n",
    "    x2 = cv2.getTrackbarPos(\"x2\", \"line\")\n",
    "    y2 = cv2.getTrackbarPos(\"y2\", \"line\")\n",
    "    \n",
    "    r = cv2.getTrackbarPos(\"r\", \"line\")\n",
    "    g = cv2.getTrackbarPos(\"g\", \"line\")\n",
    "    b = cv2.getTrackbarPos(\"b\", \"line\")\n",
    "    \n",
    "    th = cv2.getTrackbarPos(\"th\", \"line\")\n",
    "    \n",
    "    cv2.line(img2, (x1, y1), (x2, y2), (r, g, b), th+1)\n",
    "    \n",
    "    cv2.imshow(\"line\", img2)\n",
    "    \n",
    "    k = cv2.waitKey(1)\n",
    "    if k == ord('q'):\n",
    "        break\n",
    "        \n",
    "cv2.destroyAllWindows()"
   ]
  },
  {
   "cell_type": "markdown",
   "metadata": {},
   "source": [
    "# Task3 :\n",
    "- make trackbar to control position,radius and color of circle in image 500*500 rgb."
   ]
  },
  {
   "cell_type": "code",
   "execution_count": 5,
   "metadata": {},
   "outputs": [],
   "source": [
    "def nothing(x):\n",
    "    pass\n",
    "\n",
    "cv2.namedWindow(\"image\")\n",
    "\n",
    "cv2.createTrackbar('x', 'image', 0, 500, nothing)\n",
    "cv2.createTrackbar('y', 'image', 0, 500, nothing)\n",
    "\n",
    "cv2.createTrackbar('r', 'image', 0, 500, nothing)\n",
    "cv2.createTrackbar('g', 'image', 0, 500, nothing)\n",
    "cv2.createTrackbar('b', 'image', 0, 500, nothing)\n",
    "\n",
    "cv2.createTrackbar('radius', 'image', 0, 250, nothing)\n",
    "\n",
    "while 1:\n",
    "    img3 = np.zeros((500, 500, 3), np.uint8)\n",
    "    \n",
    "    x = cv2.getTrackbarPos('x', 'image')\n",
    "    y = cv2.getTrackbarPos('y', 'image')\n",
    "    \n",
    "    r = cv2.getTrackbarPos('r', 'image')\n",
    "    g = cv2.getTrackbarPos('g', 'image')\n",
    "    b = cv2.getTrackbarPos('b', 'image')\n",
    "    \n",
    "    radius = cv2.getTrackbarPos('radius', 'image')\n",
    "    \n",
    "    cv2.circle(img3, (x, y), radius, (r, g, b))\n",
    "    cv2.imshow('image', img3)\n",
    "    \n",
    "    k = cv2.waitKey(1)\n",
    "    if k == ord('q'):\n",
    "        break\n",
    "        \n",
    "cv2.destroyAllWindows()"
   ]
  },
  {
   "cell_type": "markdown",
   "metadata": {},
   "source": [
    "# Task4 :\n",
    "- create image 800*800 rgb write a word “Hello”with red color and draw yellow rectangle on border of word "
   ]
  },
  {
   "cell_type": "code",
   "execution_count": 6,
   "metadata": {},
   "outputs": [],
   "source": [
    "img4 = np.zeros((800,800,3), np.uint8)"
   ]
  },
  {
   "cell_type": "code",
   "execution_count": 7,
   "metadata": {},
   "outputs": [
    {
     "data": {
      "text/plain": [
       "<Figure size 1440x720 with 0 Axes>"
      ]
     },
     "execution_count": 7,
     "metadata": {},
     "output_type": "execute_result"
    },
    {
     "data": {
      "text/plain": [
       "<Figure size 1440x720 with 0 Axes>"
      ]
     },
     "metadata": {},
     "output_type": "display_data"
    }
   ],
   "source": [
    "cv2.putText(img4, 'Hello', (100,200), cv2.FONT_HERSHEY_SCRIPT_SIMPLEX, 4, (0,0,255),4,cv2.LINE_4)\n",
    "plt.figure(figsize=(20,10))"
   ]
  },
  {
   "cell_type": "code",
   "execution_count": 8,
   "metadata": {
    "scrolled": true
   },
   "outputs": [
    {
     "data": {
      "text/plain": [
       "array([[[0, 0, 0],\n",
       "        [0, 0, 0],\n",
       "        [0, 0, 0],\n",
       "        ...,\n",
       "        [0, 0, 0],\n",
       "        [0, 0, 0],\n",
       "        [0, 0, 0]],\n",
       "\n",
       "       [[0, 0, 0],\n",
       "        [0, 0, 0],\n",
       "        [0, 0, 0],\n",
       "        ...,\n",
       "        [0, 0, 0],\n",
       "        [0, 0, 0],\n",
       "        [0, 0, 0]],\n",
       "\n",
       "       [[0, 0, 0],\n",
       "        [0, 0, 0],\n",
       "        [0, 0, 0],\n",
       "        ...,\n",
       "        [0, 0, 0],\n",
       "        [0, 0, 0],\n",
       "        [0, 0, 0]],\n",
       "\n",
       "       ...,\n",
       "\n",
       "       [[0, 0, 0],\n",
       "        [0, 0, 0],\n",
       "        [0, 0, 0],\n",
       "        ...,\n",
       "        [0, 0, 0],\n",
       "        [0, 0, 0],\n",
       "        [0, 0, 0]],\n",
       "\n",
       "       [[0, 0, 0],\n",
       "        [0, 0, 0],\n",
       "        [0, 0, 0],\n",
       "        ...,\n",
       "        [0, 0, 0],\n",
       "        [0, 0, 0],\n",
       "        [0, 0, 0]],\n",
       "\n",
       "       [[0, 0, 0],\n",
       "        [0, 0, 0],\n",
       "        [0, 0, 0],\n",
       "        ...,\n",
       "        [0, 0, 0],\n",
       "        [0, 0, 0],\n",
       "        [0, 0, 0]]], dtype=uint8)"
      ]
     },
     "execution_count": 8,
     "metadata": {},
     "output_type": "execute_result"
    }
   ],
   "source": [
    "cv2.rectangle(img4,(355,110), (97,205), (45,255,255),3)"
   ]
  },
  {
   "cell_type": "code",
   "execution_count": 9,
   "metadata": {},
   "outputs": [
    {
     "data": {
      "text/plain": [
       "<matplotlib.image.AxesImage at 0x210d912f6d0>"
      ]
     },
     "execution_count": 9,
     "metadata": {},
     "output_type": "execute_result"
    },
    {
     "data": {
      "image/png": "[encoded data removed]",
      "text/plain": [
       "<Figure size 432x288 with 1 Axes>"
      ]
     },
     "metadata": {
      "needs_background": "light"
     },
     "output_type": "display_data"
    }
   ],
   "source": [
    "plt.imshow(img4[:,:,::-1])"
   ]
  },
  {
   "cell_type": "markdown",
   "metadata": {},
   "source": [
    "# Task5 :\n",
    "-  create image 800*800 rgb with red circle in center of image with radius 100 and make small blue circle with radius of 6 that move within circumference of the big circle every 1 second 10 degree."
   ]
  },
  {
   "cell_type": "code",
   "execution_count": 2,
   "metadata": {},
   "outputs": [],
   "source": [
    "img5 = np.zeros((800, 800, 3), np.uint8)"
   ]
  },
  {
   "cell_type": "code",
   "execution_count": 3,
   "metadata": {},
   "outputs": [
    {
     "data": {
      "text/plain": [
       "<matplotlib.image.AxesImage at 0x1d122dcc7c0>"
      ]
     },
     "execution_count": 3,
     "metadata": {},
     "output_type": "execute_result"
    },
    {
     "data": {
      "image/png": "[encoded data removed]",
      "text/plain": [
       "<Figure size 720x720 with 1 Axes>"
      ]
     },
     "metadata": {
      "needs_background": "light"
     },
     "output_type": "display_data"
    }
   ],
   "source": [
    "a = cv2.circle(img5, (400, 400), 100, (255, 0, 0), 10)\n",
    "b = cv2.circle(img5, (500, 400), 6, (0, 0, 255), -1)\n",
    "\n",
    "plt.figure(figsize=(10, 10))\n",
    "plt.imshow(img5)"
   ]
  },
  {
   "cell_type": "code",
   "execution_count": null,
   "metadata": {},
   "outputs": [],
   "source": [
    "while 1:\n",
    "    for i in range(0, 361, 10):\n",
    "        x = int(400 + 100*math.cos(math.radians(i)))\n",
    "        y = int(400 + 100*math.sin(math.radians(i)))\n",
    "    \n",
    "        cv2.circle(img5, (400, 400), 100, (255, 0, 0), 10)\n",
    "        z = cv2.circle(img5, (x, y), 6, (0, 0, 255), -1)\n",
    "        k = cv2.waitKey(1000)\n",
    "    \n",
    "        if i == 360:\n",
    "            i = 0\n",
    "    \n",
    "        cv2.imshow(\"image\", z)\n",
    "        img5 = np.zeros((800, 800, 3), np.uint8)\n",
    "\n",
    "        k = cv2.waitKey(1)\n",
    "        if k == ord('q'):\n",
    "            break\n",
    "        \n",
    "cv2.destroyAllWindows()"
   ]
  },
  {
   "cell_type": "code",
   "execution_count": null,
   "metadata": {},
   "outputs": [],
   "source": []
  }
 ],
 "metadata": {
  "kernelspec": {
   "display_name": "Python 3.10.5 64-bit",
   "language": "python",
   "name": "python3"
  },
  "language_info": {
   "codemirror_mode": {
    "name": "ipython",
    "version": 3
   },
   "file_extension": ".py",
   "mimetype": "text/x-python",
   "name": "python",
   "nbconvert_exporter": "python",
   "pygments_lexer": "ipython3",
   "version": "3.10.5"
  },
  "vscode": {
   "interpreter": {
    "hash": "fb4569285eef3a3450cb62085a5b1e0da4bce0af555edc33dcf29baf3acc1368"
   }
  }
 },
 "nbformat": 4,
 "nbformat_minor": 4
}
