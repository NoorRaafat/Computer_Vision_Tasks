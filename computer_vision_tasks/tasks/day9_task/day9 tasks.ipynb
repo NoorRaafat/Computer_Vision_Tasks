{
 "cells": [
  {
   "cell_type": "code",
   "execution_count": 7,
   "metadata": {},
   "outputs": [],
   "source": [
    "import cv2\n",
    "import numpy as np\n",
    "import matplotlib.pyplot as plt\n"
   ]
  },
  {
   "cell_type": "markdown",
   "metadata": {},
   "source": [
    "Make 100*100 rgb pixel image with white background and make diagonal of image \n",
    "with black color"
   ]
  },
  {
   "cell_type": "code",
   "execution_count": 7,
   "metadata": {},
   "outputs": [
    {
     "data": {
      "text/plain": [
       "<matplotlib.image.AxesImage at 0x1ac6fdef280>"
      ]
     },
     "execution_count": 7,
     "metadata": {},
     "output_type": "execute_result"
    },
    {
     "data": {
      "image/png": "[encoded data removed]",
      "text/plain": [
       "<Figure size 432x288 with 1 Axes>"
      ]
     },
     "metadata": {
      "needs_background": "light"
     },
     "output_type": "display_data"
    }
   ],
   "source": [
    "img = np.ones((100,100,3))\n",
    "plt.imshow(img)"
   ]
  },
  {
   "cell_type": "code",
   "execution_count": 8,
   "metadata": {},
   "outputs": [
    {
     "data": {
      "text/plain": [
       "<matplotlib.image.AxesImage at 0x1ac6fd026b0>"
      ]
     },
     "execution_count": 8,
     "metadata": {},
     "output_type": "execute_result"
    },
    {
     "data": {
      "image/png": "[encoded data removed]",
      "text/plain": [
       "<Figure size 432x288 with 1 Axes>"
      ]
     },
     "metadata": {
      "needs_background": "light"
     },
     "output_type": "display_data"
    }
   ],
   "source": [
    "for i, row in enumerate(img):\n",
    "    for j, col in enumerate(row):\n",
    "        if (i==j):\n",
    "            img[i,j] = 0\n",
    "\n",
    "plt.imshow(img, cmap='gray')"
   ]
  },
  {
   "cell_type": "markdown",
   "metadata": {},
   "source": [
    "- run video stream using your laptop camera and save frames when i press key \n",
    "“s” close camera when i press “q” ,name of images should be “img.png +{counter}”\n"
   ]
  },
  {
   "cell_type": "code",
   "execution_count": 5,
   "metadata": {},
   "outputs": [],
   "source": [
    "import cv2\n",
    "import numpy as np\n",
    "cap = cv2.VideoCapture('11_output.avi')\n",
    "cnt = 0\n",
    "\n",
    "while(cap.isOpened()): # علشان تتاكد ان الفيديو شغال \n",
    "    ret, frame = cap.read()\n",
    "    \n",
    "    if ret == True:\n",
    "        cv2.imshow('Frame', frame)\n",
    "        k = cv2.waitKey(1)\n",
    "    \n",
    "        if k == ord('q'):\n",
    "            break\n",
    "        \n",
    "        elif k == ord('s'):\n",
    "            cv2.imwrite(\"11_output.avi{}.jpg\".format(cnt), frame) # imread for save frames \n",
    "\n",
    "        \n",
    "    else:\n",
    "        break\n",
    "        \n",
    "cap.release()\n",
    "cv2.destroyAllWindows()"
   ]
  },
  {
   "cell_type": "markdown",
   "metadata": {},
   "source": [
    "Make 100*100 rgb pixel image with black background and make diagonal of image \n",
    "with (x) color such that x is came from rgb trackbar"
   ]
  },
  {
   "cell_type": "code",
   "execution_count": 13,
   "metadata": {},
   "outputs": [],
   "source": [
    "\n",
    "def nothing (x):\n",
    "    pass\n",
    "cv2.namedWindow('image')\n",
    "cv2.createTrackbar('R','image',0,255,nothing)\n",
    "cv2.createTrackbar('G','image',0,255,nothing)\n",
    "cv2.createTrackbar('B','image',0,255,nothing)\n",
    "img = np.zeros((100,100,3),np.uint8)\n",
    "while True:\n",
    "    r = cv2.getTrackbarPos('R', 'image')\n",
    "    g = cv2.getTrackbarPos('G', 'image')\n",
    "    b = cv2.getTrackbarPos('B', 'image')\n",
    "    for i, row in enumerate(img):\n",
    "        for j, col in enumerate(row):\n",
    "            if (i==j):\n",
    "                img[i,j] = [r,g,b]\n",
    "    \n",
    "    cv2.imshow('image',img)\n",
    "    k = cv2.waitKey(1)\n",
    "    if k == ord('q'):\n",
    "        break\n",
    "\n",
    "cv2.destroyAllWindows()\n",
    "    \n"
   ]
  },
  {
   "cell_type": "markdown",
   "metadata": {},
   "source": [
    "create 100*100 rgb image with black background and make 1 vertical line and 1 \n",
    "horizontal line the color of both should be controlled spereat from 2 trackbar\n",
    "First one “horz” and second one is “vert”"
   ]
  },
  {
   "cell_type": "code",
   "execution_count": 8,
   "metadata": {},
   "outputs": [],
   "source": [
    "cv2.namedWindow('image')\n",
    "\n",
    "def nothing(x):\n",
    "    pass\n",
    "\n",
    "cv2.createTrackbar('VertRed','image',0,255,nothing)\n",
    "cv2.createTrackbar('VertGreen','image',0,255,nothing)\n",
    "cv2.createTrackbar('VertBlue','image',0,255,nothing)\n",
    "cv2.createTrackbar('HorzRed','image',0,255,nothing)\n",
    "cv2.createTrackbar('HorzGreen','image',0,255,nothing)\n",
    "cv2.createTrackbar('HorzBlue','image',0,255,nothing)\n",
    "\n",
    "img = np.zeros((500,500,3),np.uint8)\n",
    "while True:\n",
    "    vred = cv2.getTrackbarPos('VertRed', 'image')\n",
    "    vgreen = cv2.getTrackbarPos('VertGreen', 'image')\n",
    "    vblue = cv2.getTrackbarPos('VertBlue', 'image')\n",
    "\n",
    "    hred = cv2.getTrackbarPos('HorzRed', 'image')\n",
    "    hgreen = cv2.getTrackbarPos('HorzGreen', 'image')\n",
    "    hblue =cv2.getTrackbarPos('HorzBlue', 'image')\n",
    "    img[10] = [hred,hgreen,hblue]\n",
    "    img[:,90] = [vred,vgreen,vblue]\n",
    "    \n",
    "    cv2.imshow('image',img)\n",
    "    k = cv2.waitKey(1)\n",
    "    if k == ord('q'):\n",
    "        break\n",
    "\n",
    "cv2.destroyAllWindows()\n",
    "\n",
    "    "
   ]
  },
  {
   "cell_type": "markdown",
   "metadata": {},
   "source": [
    "create 250*250 rgb image with black background and make 1 vertical line and 1 \n",
    "horizontal line with red color and both should be controlled spereat from 2 \n",
    "trackbar to select the horizontal line in which row and vertical line in which \n",
    "column. \n",
    "First one “horz” and second one is “vert” (Trackbar"
   ]
  },
  {
   "cell_type": "code",
   "execution_count": 6,
   "metadata": {},
   "outputs": [],
   "source": [
    "cv2.namedWindow('image')\n",
    "\n",
    "def func(x):\n",
    "    pass\n",
    "\n",
    "cv2.createTrackbar('Vert','image',0,511,func)\n",
    "cv2.createTrackbar('Horz','image',0,511,func)\n",
    "\n",
    "img = np.zeros((250,250,3),np.uint8)\n",
    "while True:\n",
    "    v = cv2.getTrackbarPos('Vert', 'image')\n",
    "    h = cv2.getTrackbarPos('Horz', 'image')\n",
    "    img[:] = 0\n",
    "    img[h] = [0,0,255]\n",
    "    img[:,v] = [0,0,255]\n",
    "    \n",
    "    cv2.imshow('image',img)\n",
    "    k = cv2.waitKey(1)\n",
    "    if k == ord('q'):\n",
    "        break\n",
    "\n",
    "cv2.destroyAllWindows()"
   ]
  },
  {
   "cell_type": "code",
   "execution_count": null,
   "metadata": {},
   "outputs": [],
   "source": []
  }
 ],
 "metadata": {
  "kernelspec": {
   "display_name": "Python 3.10.5 64-bit",
   "language": "python",
   "name": "python3"
  },
  "language_info": {
   "codemirror_mode": {
    "name": "ipython",
    "version": 3
   },
   "file_extension": ".py",
   "mimetype": "text/x-python",
   "name": "python",
   "nbconvert_exporter": "python",
   "pygments_lexer": "ipython3",
   "version": "3.10.5"
  },
  "orig_nbformat": 4,
  "vscode": {
   "interpreter": {
    "hash": "fb4569285eef3a3450cb62085a5b1e0da4bce0af555edc33dcf29baf3acc1368"
   }
  }
 },
 "nbformat": 4,
 "nbformat_minor": 2
}
