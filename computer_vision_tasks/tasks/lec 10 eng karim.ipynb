{
 "cells": [
  {
   "cell_type": "code",
   "execution_count": null,
   "metadata": {},
   "outputs": [],
   "source": [
    "import cv2\n",
    "import numpy as np\n",
    "import matplotlib.pyplot as plt\n",
    "import math\n",
    "\n",
    "def nothing(x):\n",
    "    pass\n",
    "\n",
    "cv2.namedWindow(\"image\")\n",
    "cv2.createTrackbar(\"angle1\",\"image\",0,360,nothing)\n",
    "cv2.createTrackbar(\"angle2\",\"image\",0,360,nothing)\n",
    "\n",
    "\n",
    "while True:\n",
    "    img=np.zeros((500,500,3),np.uint8)\n",
    "    cv2.circle(img,(250,250),100,(0,0,255),5)\n",
    "    angle1= cv2.getTrackbarPos(\"angle1\",\"image\")\n",
    "    x= int((250+90*math.cos(math.radians(angle1))))\n",
    "    y= int((250+90*math.sin(math.radians(angle1))))\n",
    "    cv2.line(img,(250,250),(x,y),(255,0,255),6)\n",
    "\n",
    "    angle2= cv2.getTrackbarPos(\"angle2\",\"image\")\n",
    "    x= int((250+70*math.cos(math.radians(angle2))))\n",
    "    y= int((250+70*math.sin(math.radians(angle2))))\n",
    "    cv2.line(img,(250,250),(x,y),(255,255,0),6)\n",
    "\n",
    "    cv2.imshow(\"image\",img)\n",
    "    k=cv2.waitKey(1)\n",
    "    if k== ord('q'):\n",
    "        break\n",
    "cv2.destroyAllWindows()\n",
    "\n",
    "\n",
    "    \n"
   ]
  },
  {
   "cell_type": "code",
   "execution_count": null,
   "metadata": {},
   "outputs": [],
   "source": []
  }
 ],
 "metadata": {
  "kernelspec": {
   "display_name": "Python 3.10.5 64-bit",
   "language": "python",
   "name": "python3"
  },
  "language_info": {
   "codemirror_mode": {
    "name": "ipython",
    "version": 3
   },
   "file_extension": ".py",
   "mimetype": "text/x-python",
   "name": "python",
   "nbconvert_exporter": "python",
   "pygments_lexer": "ipython3",
   "version": "3.10.5"
  },
  "orig_nbformat": 4,
  "vscode": {
   "interpreter": {
    "hash": "fb4569285eef3a3450cb62085a5b1e0da4bce0af555edc33dcf29baf3acc1368"
   }
  }
 },
 "nbformat": 4,
 "nbformat_minor": 2
}
