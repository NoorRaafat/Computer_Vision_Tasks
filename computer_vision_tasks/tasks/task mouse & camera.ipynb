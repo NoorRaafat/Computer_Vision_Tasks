{
 "cells": [
  {
   "cell_type": "code",
   "execution_count": null,
   "metadata": {},
   "outputs": [],
   "source": [
    "import cv2\n",
    "from matplotlib import pyplot as plt\n",
    "import numpy as np"
   ]
  },
  {
   "cell_type": "code",
   "execution_count": null,
   "metadata": {},
   "outputs": [],
   "source": [
    "faceClassifier=cv2.CascadeClassifier(cv2.data.haarcascades+'haarcascade_frontalface_default.xml')\n",
    "#eyeClassifier=cv2.CascadeClassifier(cv2.data.haarcascades+'haarcascade_eye.xml')\n"
   ]
  },
  {
   "cell_type": "code",
   "execution_count": null,
   "metadata": {},
   "outputs": [],
   "source": [
    "cv2.data.haarcascades"
   ]
  },
  {
   "cell_type": "code",
   "execution_count": null,
   "metadata": {},
   "outputs": [],
   "source": [
    "img=cv2.imread(\"gettyimages-1229892983-square.jpg\")\n",
    "gray=cv2.cvtColor(img,cv2.COLOR_BGR2GRAY)\n",
    "plt.figure(figsize=(12,12))\n",
    "#plt.imshow(gray,cmap='gray')\n",
    "mouses=faceClassifier.detectMultiScale(gray,scaleFactor=1.1,minNeighbors=2,minSize=(70,70))\n",
    "\n",
    "#print(faces)\n",
    "#print(faces.shape)\n",
    "for x,y,w,h in faces:\n",
    "    cv2.rectangle(img,(x,y),(x+w,y+h),(0,255,0),5)\n",
    "    face=gray[y:y+h,x:x+w]\n",
    "    #eyes=eyeClassifier.detectMultiScale(face,scaleFactor=1.01,minNeighbors=6,minSize=(70,70))\n",
    "    #for x2,y2,w2,h2 in eyes:\n",
    "       # cv2.rectangle(img,(x+x2,y+y2),(x+x2+w2,y+y2+h2),(0,255,0),5)\n",
    "        #print(eyes)\n",
    "\n",
    "#print(eyes)\n",
    "plt.imshow(img[:,:,::-1])\n",
    "#plt.imshow(face,cmap='gray')\n"
   ]
  }
 ],
 "metadata": {
  "language_info": {
   "name": "python"
  },
  "orig_nbformat": 4
 },
 "nbformat": 4,
 "nbformat_minor": 2
}
