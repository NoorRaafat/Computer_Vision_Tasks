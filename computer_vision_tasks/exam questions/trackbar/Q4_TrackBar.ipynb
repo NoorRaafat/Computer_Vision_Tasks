{
 "cells": [
  {
   "cell_type": "markdown",
   "metadata": {},
   "source": [
    "- make 2 trackbar first one to switch between 2 images (0 ---> 1) and anther one to switch between 2 filter (canny, blur) (0 ---> 1) select preferred parameter for filters show the image in the same trackbar window when i press q stop the program.\n"
   ]
  },
  {
   "cell_type": "code",
   "execution_count": 2,
   "metadata": {},
   "outputs": [],
   "source": [
    "import cv2\n",
    "import numpy as np\n",
    "import matplotlib.pyplot as plt"
   ]
  },
  {
   "cell_type": "code",
   "execution_count": 4,
   "metadata": {},
   "outputs": [
    {
     "ename": "error",
     "evalue": "OpenCV(4.6.0) D:\\a\\opencv-python\\opencv-python\\opencv\\modules\\highgui\\src\\window_w32.cpp:2581: error: (-27:Null pointer) NULL window: 'Color' in function 'cvGetTrackbarPos'\n",
     "output_type": "error",
     "traceback": [
      "\u001b[1;31m---------------------------------------------------------------------------\u001b[0m",
      "\u001b[1;31merror\u001b[0m                                     Traceback (most recent call last)",
      "\u001b[1;32md:\\exam questions\\trackbar\\Q4_TrackBar.ipynb Cell 3\u001b[0m in \u001b[0;36m<cell line: 9>\u001b[1;34m()\u001b[0m\n\u001b[0;32m     <a href='vscode-notebook-cell:/d%3A/exam%20questions/trackbar/Q4_TrackBar.ipynb#ch0000002?line=9'>10</a>\u001b[0m img1 \u001b[39m=\u001b[39m cv2\u001b[39m.\u001b[39mimread(\u001b[39m\"\u001b[39m\u001b[39mnature.jpg\u001b[39m\u001b[39m\"\u001b[39m)\n\u001b[0;32m     <a href='vscode-notebook-cell:/d%3A/exam%20questions/trackbar/Q4_TrackBar.ipynb#ch0000002?line=10'>11</a>\u001b[0m img2 \u001b[39m=\u001b[39m cv2\u001b[39m.\u001b[39mimread(\u001b[39m\"\u001b[39m\u001b[39mnature-image-for-website.jpg\u001b[39m\u001b[39m\"\u001b[39m)\n\u001b[1;32m---> <a href='vscode-notebook-cell:/d%3A/exam%20questions/trackbar/Q4_TrackBar.ipynb#ch0000002?line=12'>13</a>\u001b[0m image \u001b[39m=\u001b[39m cv2\u001b[39m.\u001b[39;49mgetTrackbarPos(\u001b[39m\"\u001b[39;49m\u001b[39mimage\u001b[39;49m\u001b[39m\"\u001b[39;49m, \u001b[39m\"\u001b[39;49m\u001b[39mColor\u001b[39;49m\u001b[39m\"\u001b[39;49m)\n\u001b[0;32m     <a href='vscode-notebook-cell:/d%3A/exam%20questions/trackbar/Q4_TrackBar.ipynb#ch0000002?line=13'>14</a>\u001b[0m filters \u001b[39m=\u001b[39m cv2\u001b[39m.\u001b[39mgetTrackbarPos(\u001b[39m\"\u001b[39m\u001b[39mfilters\u001b[39m\u001b[39m\"\u001b[39m, \u001b[39m\"\u001b[39m\u001b[39mColor\u001b[39m\u001b[39m\"\u001b[39m)\n\u001b[0;32m     <a href='vscode-notebook-cell:/d%3A/exam%20questions/trackbar/Q4_TrackBar.ipynb#ch0000002?line=15'>16</a>\u001b[0m \u001b[39mif\u001b[39;00m image\u001b[39m==\u001b[39m\u001b[39m0\u001b[39m \u001b[39mand\u001b[39;00m filters\u001b[39m==\u001b[39m\u001b[39m0\u001b[39m: \n",
      "\u001b[1;31merror\u001b[0m: OpenCV(4.6.0) D:\\a\\opencv-python\\opencv-python\\opencv\\modules\\highgui\\src\\window_w32.cpp:2581: error: (-27:Null pointer) NULL window: 'Color' in function 'cvGetTrackbarPos'\n"
     ]
    }
   ],
   "source": [
    "def nothing(x):\n",
    "    pass\n",
    "\n",
    "cv2.namedWindow(\"Color\")\n",
    "\n",
    "cv2.createTrackbar(\"image\", \"Color\", 0, 1, nothing)\n",
    "cv2.createTrackbar(\"filters\", \"Color\", 0, 1, nothing)\n",
    " \n",
    "while 1:\n",
    "    img1 = cv2.imread(\"nature.jpg\")\n",
    "    img2 = cv2.imread(\"nature-image-for-website.jpg\")\n",
    "    \n",
    "    image = cv2.getTrackbarPos(\"image\", \"Color\")\n",
    "    filters = cv2.getTrackbarPos(\"filters\", \"Color\")\n",
    "    \n",
    "    if image==0 and filters==0: \n",
    "        img1 = cv2.blur(img1, (5, 5))\n",
    "        cv2.imshow(\"Color\", img1)\n",
    "        \n",
    "    elif image==1 and filters==0:\n",
    "        img2 = cv2.blur(img2, (5, 5))\n",
    "        cv2.imshow(\"Color\", img2)\n",
    "        \n",
    "    elif image==0 and filters==1:\n",
    "        img1 = cv2.Canny(img1, 50, 120)\n",
    "        cv2.imshow(\"Color\", img1)\n",
    "    \n",
    "    else:\n",
    "        img2 = cv2.Canny(img2, 50, 120)\n",
    "        cv2.imshow(\"Color\", img2)\n",
    "        \n",
    "    k = cv2.waitKey(1)\n",
    "    if k == ord('q'):\n",
    "        break\n",
    "        \n",
    "cv2.destroyAllWindows()"
   ]
  },
  {
   "cell_type": "code",
   "execution_count": null,
   "metadata": {},
   "outputs": [],
   "source": []
  }
 ],
 "metadata": {
  "kernelspec": {
   "display_name": "Python 3.10.5 64-bit",
   "language": "python",
   "name": "python3"
  },
  "language_info": {
   "codemirror_mode": {
    "name": "ipython",
    "version": 3
   },
   "file_extension": ".py",
   "mimetype": "text/x-python",
   "name": "python",
   "nbconvert_exporter": "python",
   "pygments_lexer": "ipython3",
   "version": "3.10.5"
  },
  "vscode": {
   "interpreter": {
    "hash": "fb4569285eef3a3450cb62085a5b1e0da4bce0af555edc33dcf29baf3acc1368"
   }
  }
 },
 "nbformat": 4,
 "nbformat_minor": 4
}
